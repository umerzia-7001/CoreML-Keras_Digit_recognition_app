{
 "cells": [
  {
   "cell_type": "code",
   "execution_count": 1,
   "metadata": {},
   "outputs": [
    {
     "name": "stdout",
     "output_type": "stream",
     "text": [
      "Requirement already satisfied: numpy in ./Library/Python/3.7/lib/python/site-packages (1.18.1)\n",
      "\u001b[33mWARNING: You are using pip version 20.2.3; however, version 20.2.4 is available.\n",
      "You should consider upgrading via the '/Library/Frameworks/Python.framework/Versions/3.7/bin/python3.7 -m pip install --upgrade pip' command.\u001b[0m\n",
      "Requirement already satisfied: pandas in /Library/Frameworks/Python.framework/Versions/3.7/lib/python3.7/site-packages (1.0.3)\n",
      "Requirement already satisfied: pytz>=2017.2 in /Library/Frameworks/Python.framework/Versions/3.7/lib/python3.7/site-packages (from pandas) (2019.3)\n",
      "Requirement already satisfied: python-dateutil>=2.6.1 in /Library/Frameworks/Python.framework/Versions/3.7/lib/python3.7/site-packages (from pandas) (2.8.1)\n",
      "Requirement already satisfied: numpy>=1.13.3 in ./Library/Python/3.7/lib/python/site-packages (from pandas) (1.18.1)\n",
      "Requirement already satisfied: six>=1.5 in /Library/Frameworks/Python.framework/Versions/3.7/lib/python3.7/site-packages (from python-dateutil>=2.6.1->pandas) (1.14.0)\n",
      "\u001b[33mWARNING: You are using pip version 20.2.3; however, version 20.2.4 is available.\n",
      "You should consider upgrading via the '/Library/Frameworks/Python.framework/Versions/3.7/bin/python3.7 -m pip install --upgrade pip' command.\u001b[0m\n",
      "Requirement already satisfied: matplotlib in /Library/Frameworks/Python.framework/Versions/3.7/lib/python3.7/site-packages (3.2.1)\n",
      "Requirement already satisfied: numpy>=1.11 in ./Library/Python/3.7/lib/python/site-packages (from matplotlib) (1.18.1)\n",
      "Requirement already satisfied: python-dateutil>=2.1 in /Library/Frameworks/Python.framework/Versions/3.7/lib/python3.7/site-packages (from matplotlib) (2.8.1)\n",
      "Requirement already satisfied: pyparsing!=2.0.4,!=2.1.2,!=2.1.6,>=2.0.1 in /Library/Frameworks/Python.framework/Versions/3.7/lib/python3.7/site-packages (from matplotlib) (2.4.6)\n",
      "Requirement already satisfied: cycler>=0.10 in /Library/Frameworks/Python.framework/Versions/3.7/lib/python3.7/site-packages (from matplotlib) (0.10.0)\n",
      "Requirement already satisfied: kiwisolver>=1.0.1 in /Library/Frameworks/Python.framework/Versions/3.7/lib/python3.7/site-packages (from matplotlib) (1.1.0)\n",
      "Requirement already satisfied: six>=1.5 in /Library/Frameworks/Python.framework/Versions/3.7/lib/python3.7/site-packages (from python-dateutil>=2.1->matplotlib) (1.14.0)\n",
      "Requirement already satisfied: setuptools in /Library/Frameworks/Python.framework/Versions/3.7/lib/python3.7/site-packages (from kiwisolver>=1.0.1->matplotlib) (46.0.0)\n",
      "\u001b[33mWARNING: You are using pip version 20.2.3; however, version 20.2.4 is available.\n",
      "You should consider upgrading via the '/Library/Frameworks/Python.framework/Versions/3.7/bin/python3.7 -m pip install --upgrade pip' command.\u001b[0m\n",
      "Requirement already satisfied: keras in /Library/Frameworks/Python.framework/Versions/3.7/lib/python3.7/site-packages (2.3.1)\n",
      "Requirement already satisfied: keras-applications>=1.0.6 in ./Library/Python/3.7/lib/python/site-packages (from keras) (1.0.8)\n",
      "Requirement already satisfied: six>=1.9.0 in /Library/Frameworks/Python.framework/Versions/3.7/lib/python3.7/site-packages (from keras) (1.14.0)\n",
      "Requirement already satisfied: h5py in ./Library/Python/3.7/lib/python/site-packages (from keras) (2.10.0)\n",
      "Requirement already satisfied: scipy>=0.14 in ./Library/Python/3.7/lib/python/site-packages (from keras) (1.4.1)\n",
      "Requirement already satisfied: pyyaml in /Library/Frameworks/Python.framework/Versions/3.7/lib/python3.7/site-packages (from keras) (5.3.1)\n",
      "Requirement already satisfied: keras-preprocessing>=1.0.5 in ./Library/Python/3.7/lib/python/site-packages (from keras) (1.1.0)\n",
      "Requirement already satisfied: numpy>=1.9.1 in ./Library/Python/3.7/lib/python/site-packages (from keras) (1.18.1)\n",
      "\u001b[33mWARNING: You are using pip version 20.2.3; however, version 20.2.4 is available.\n",
      "You should consider upgrading via the '/Library/Frameworks/Python.framework/Versions/3.7/bin/python3.7 -m pip install --upgrade pip' command.\u001b[0m\n",
      "Requirement already satisfied: sklearn in /Library/Frameworks/Python.framework/Versions/3.7/lib/python3.7/site-packages (0.0)\n",
      "Requirement already satisfied: scikit-learn in /Library/Frameworks/Python.framework/Versions/3.7/lib/python3.7/site-packages (from sklearn) (0.22.2.post1)\n",
      "Requirement already satisfied: numpy>=1.11.0 in ./Library/Python/3.7/lib/python/site-packages (from scikit-learn->sklearn) (1.18.1)\n",
      "Requirement already satisfied: scipy>=0.17.0 in ./Library/Python/3.7/lib/python/site-packages (from scikit-learn->sklearn) (1.4.1)\n",
      "Requirement already satisfied: joblib>=0.11 in /Library/Frameworks/Python.framework/Versions/3.7/lib/python3.7/site-packages (from scikit-learn->sklearn) (0.14.1)\n",
      "\u001b[33mWARNING: You are using pip version 20.2.3; however, version 20.2.4 is available.\n",
      "You should consider upgrading via the '/Library/Frameworks/Python.framework/Versions/3.7/bin/python3.7 -m pip install --upgrade pip' command.\u001b[0m\n",
      "Requirement already satisfied: tensorflow in /Library/Frameworks/Python.framework/Versions/3.7/lib/python3.7/site-packages (1.13.1)\n",
      "Requirement already satisfied: grpcio>=1.8.6 in ./Library/Python/3.7/lib/python/site-packages (from tensorflow) (1.27.2)\n",
      "Requirement already satisfied: numpy>=1.13.3 in ./Library/Python/3.7/lib/python/site-packages (from tensorflow) (1.18.1)\n",
      "Requirement already satisfied: six>=1.10.0 in /Library/Frameworks/Python.framework/Versions/3.7/lib/python3.7/site-packages (from tensorflow) (1.14.0)\n",
      "Requirement already satisfied: absl-py>=0.1.6 in ./Library/Python/3.7/lib/python/site-packages (from tensorflow) (0.9.0)\n",
      "Requirement already satisfied: wheel>=0.26 in ./Library/Python/3.7/lib/python/site-packages (from tensorflow) (0.34.2)\n",
      "Requirement already satisfied: astor>=0.6.0 in ./Library/Python/3.7/lib/python/site-packages (from tensorflow) (0.8.1)\n",
      "Requirement already satisfied: keras-applications>=1.0.6 in ./Library/Python/3.7/lib/python/site-packages (from tensorflow) (1.0.8)\n",
      "Requirement already satisfied: keras-preprocessing>=1.0.5 in ./Library/Python/3.7/lib/python/site-packages (from tensorflow) (1.1.0)\n",
      "Requirement already satisfied: protobuf>=3.6.1 in ./Library/Python/3.7/lib/python/site-packages (from tensorflow) (3.11.3)\n",
      "Requirement already satisfied: gast>=0.2.0 in ./Library/Python/3.7/lib/python/site-packages (from tensorflow) (0.4.0)\n",
      "Requirement already satisfied: termcolor>=1.1.0 in ./Library/Python/3.7/lib/python/site-packages (from tensorflow) (1.1.0)\n",
      "Requirement already satisfied: tensorflow-estimator<1.14.0rc0,>=1.13.0 in /Library/Frameworks/Python.framework/Versions/3.7/lib/python3.7/site-packages (from tensorflow) (1.13.0)\n",
      "Requirement already satisfied: tensorboard<1.14.0,>=1.13.0 in /Library/Frameworks/Python.framework/Versions/3.7/lib/python3.7/site-packages (from tensorflow) (1.13.1)\n",
      "Requirement already satisfied: h5py in ./Library/Python/3.7/lib/python/site-packages (from keras-applications>=1.0.6->tensorflow) (2.10.0)\n",
      "Requirement already satisfied: setuptools in /Library/Frameworks/Python.framework/Versions/3.7/lib/python3.7/site-packages (from protobuf>=3.6.1->tensorflow) (46.0.0)\n",
      "Requirement already satisfied: mock>=2.0.0 in /Library/Frameworks/Python.framework/Versions/3.7/lib/python3.7/site-packages (from tensorflow-estimator<1.14.0rc0,>=1.13.0->tensorflow) (4.0.2)\n",
      "Requirement already satisfied: werkzeug>=0.11.15 in ./Library/Python/3.7/lib/python/site-packages (from tensorboard<1.14.0,>=1.13.0->tensorflow) (1.0.0)\n",
      "Requirement already satisfied: markdown>=2.6.8 in ./Library/Python/3.7/lib/python/site-packages (from tensorboard<1.14.0,>=1.13.0->tensorflow) (3.2.1)\n",
      "\u001b[33mWARNING: You are using pip version 20.2.3; however, version 20.2.4 is available.\n",
      "You should consider upgrading via the '/Library/Frameworks/Python.framework/Versions/3.7/bin/python3.7 -m pip install --upgrade pip' command.\u001b[0m\n",
      "Requirement already satisfied: coremltools in /Library/Frameworks/Python.framework/Versions/3.7/lib/python3.7/site-packages (4.0)\n",
      "Requirement already satisfied: numpy>=1.14.5 in ./Library/Python/3.7/lib/python/site-packages (from coremltools) (1.18.1)\n",
      "Requirement already satisfied: attrs in /Library/Frameworks/Python.framework/Versions/3.7/lib/python3.7/site-packages (from coremltools) (19.3.0)\n"
     ]
    },
    {
     "name": "stdout",
     "output_type": "stream",
     "text": [
      "Requirement already satisfied: scipy in ./Library/Python/3.7/lib/python/site-packages (from coremltools) (1.4.1)\n",
      "Requirement already satisfied: sympy in /Library/Frameworks/Python.framework/Versions/3.7/lib/python3.7/site-packages (from coremltools) (1.6.2)\n",
      "Requirement already satisfied: attr in /Library/Frameworks/Python.framework/Versions/3.7/lib/python3.7/site-packages (from coremltools) (0.3.1)\n",
      "Requirement already satisfied: packaging in /Library/Frameworks/Python.framework/Versions/3.7/lib/python3.7/site-packages (from coremltools) (20.4)\n",
      "Requirement already satisfied: tqdm in /Library/Frameworks/Python.framework/Versions/3.7/lib/python3.7/site-packages (from coremltools) (4.45.0)\n",
      "Requirement already satisfied: protobuf>=3.1.0 in ./Library/Python/3.7/lib/python/site-packages (from coremltools) (3.11.3)\n",
      "Requirement already satisfied: six>=1.10.0 in /Library/Frameworks/Python.framework/Versions/3.7/lib/python3.7/site-packages (from coremltools) (1.14.0)\n",
      "Requirement already satisfied: mpmath>=0.19 in /Library/Frameworks/Python.framework/Versions/3.7/lib/python3.7/site-packages (from sympy->coremltools) (1.1.0)\n",
      "Requirement already satisfied: pyparsing>=2.0.2 in /Library/Frameworks/Python.framework/Versions/3.7/lib/python3.7/site-packages (from packaging->coremltools) (2.4.6)\n",
      "Requirement already satisfied: setuptools in /Library/Frameworks/Python.framework/Versions/3.7/lib/python3.7/site-packages (from protobuf>=3.1.0->coremltools) (46.0.0)\n",
      "\u001b[33mWARNING: You are using pip version 20.2.3; however, version 20.2.4 is available.\n",
      "You should consider upgrading via the '/Library/Frameworks/Python.framework/Versions/3.7/bin/python3.7 -m pip install --upgrade pip' command.\u001b[0m\n"
     ]
    }
   ],
   "source": [
    "import sys\n",
    "sys.path.append('/Library/Frameworks/Python.framework/Versions/3.7/lib/python3.7/site-packages')\n",
    "\n",
    "!pip3 install numpy \n",
    "!pip3 install pandas\n",
    "!pip3 install matplotlib\n",
    "!pip3 install keras\n",
    "!pip3 install sklearn\n",
    "!pip3 install tensorflow\n",
    "!pip3 install coremltools"
   ]
  },
  {
   "cell_type": "code",
   "execution_count": 3,
   "metadata": {},
   "outputs": [
    {
     "name": "stdout",
     "output_type": "stream",
     "text": [
      "keras version  2.3.1\n"
     ]
    }
   ],
   "source": [
    "from __future__ import print_function\n",
    "from matplotlib import pyplot as plt\n",
    "import tensorflow as tf\n",
    "import keras\n",
    "from keras.datasets import mnist\n",
    "from keras.models import Sequential\n",
    "from keras.layers import Dense, Dropout, Flatten\n",
    "from keras.layers import Conv2D, MaxPooling2D\n",
    "from keras.utils import np_utils\n",
    "from keras import backend as K\n",
    "from sklearn.model_selection import train_test_split\n",
    "import coremltools\n",
    "# coremltools supports Keras version 2.0.6\n",
    "print('keras version ', keras.__version__)"
   ]
  },
  {
   "cell_type": "code",
   "execution_count": 4,
   "metadata": {},
   "outputs": [],
   "source": [
    "# loading mnist dataset\n",
    "\n",
    "(x_train, y_train), (x_val, y_val) = mnist.load_data()\n",
    "\n",
    "\n"
   ]
  },
  {
   "cell_type": "code",
   "execution_count": 6,
   "metadata": {},
   "outputs": [
    {
     "name": "stdout",
     "output_type": "stream",
     "text": [
      "X_train shape:  (60000, 28, 28)\n",
      "60000  training samples\n",
      "X_val shape:  (10000, 28, 28)\n",
      "10000  validation samples\n",
      "First x sample\n",
      " [[  0   0   0   0   0   0   0   0   0   0   0   0   0   0   0   0   0   0\n",
      "    0   0   0   0   0   0   0   0   0   0]\n",
      " [  0   0   0   0   0   0   0   0   0   0   0   0   0   0   0   0   0   0\n",
      "    0   0   0   0   0   0   0   0   0   0]\n",
      " [  0   0   0   0   0   0   0   0   0   0   0   0   0   0   0   0   0   0\n",
      "    0   0   0   0   0   0   0   0   0   0]\n",
      " [  0   0   0   0   0   0   0   0   0   0   0   0   0   0   0   0   0   0\n",
      "    0   0   0   0   0   0   0   0   0   0]\n",
      " [  0   0   0   0   0   0   0   0   0   0   0   0   0   0   0   0   0   0\n",
      "    0   0   0   0   0   0   0   0   0   0]\n",
      " [  0   0   0   0   0   0   0   0   0   0   0   0   3  18  18  18 126 136\n",
      "  175  26 166 255 247 127   0   0   0   0]\n",
      " [  0   0   0   0   0   0   0   0  30  36  94 154 170 253 253 253 253 253\n",
      "  225 172 253 242 195  64   0   0   0   0]\n",
      " [  0   0   0   0   0   0   0  49 238 253 253 253 253 253 253 253 253 251\n",
      "   93  82  82  56  39   0   0   0   0   0]\n",
      " [  0   0   0   0   0   0   0  18 219 253 253 253 253 253 198 182 247 241\n",
      "    0   0   0   0   0   0   0   0   0   0]\n",
      " [  0   0   0   0   0   0   0   0  80 156 107 253 253 205  11   0  43 154\n",
      "    0   0   0   0   0   0   0   0   0   0]\n",
      " [  0   0   0   0   0   0   0   0   0  14   1 154 253  90   0   0   0   0\n",
      "    0   0   0   0   0   0   0   0   0   0]\n",
      " [  0   0   0   0   0   0   0   0   0   0   0 139 253 190   2   0   0   0\n",
      "    0   0   0   0   0   0   0   0   0   0]\n",
      " [  0   0   0   0   0   0   0   0   0   0   0  11 190 253  70   0   0   0\n",
      "    0   0   0   0   0   0   0   0   0   0]\n",
      " [  0   0   0   0   0   0   0   0   0   0   0   0  35 241 225 160 108   1\n",
      "    0   0   0   0   0   0   0   0   0   0]\n",
      " [  0   0   0   0   0   0   0   0   0   0   0   0   0  81 240 253 253 119\n",
      "   25   0   0   0   0   0   0   0   0   0]\n",
      " [  0   0   0   0   0   0   0   0   0   0   0   0   0   0  45 186 253 253\n",
      "  150  27   0   0   0   0   0   0   0   0]\n",
      " [  0   0   0   0   0   0   0   0   0   0   0   0   0   0   0  16  93 252\n",
      "  253 187   0   0   0   0   0   0   0   0]\n",
      " [  0   0   0   0   0   0   0   0   0   0   0   0   0   0   0   0   0 249\n",
      "  253 249  64   0   0   0   0   0   0   0]\n",
      " [  0   0   0   0   0   0   0   0   0   0   0   0   0   0  46 130 183 253\n",
      "  253 207   2   0   0   0   0   0   0   0]\n",
      " [  0   0   0   0   0   0   0   0   0   0   0   0  39 148 229 253 253 253\n",
      "  250 182   0   0   0   0   0   0   0   0]\n",
      " [  0   0   0   0   0   0   0   0   0   0  24 114 221 253 253 253 253 201\n",
      "   78   0   0   0   0   0   0   0   0   0]\n",
      " [  0   0   0   0   0   0   0   0  23  66 213 253 253 253 253 198  81   2\n",
      "    0   0   0   0   0   0   0   0   0   0]\n",
      " [  0   0   0   0   0   0  18 171 219 253 253 253 253 195  80   9   0   0\n",
      "    0   0   0   0   0   0   0   0   0   0]\n",
      " [  0   0   0   0  55 172 226 253 253 253 253 244 133  11   0   0   0   0\n",
      "    0   0   0   0   0   0   0   0   0   0]\n",
      " [  0   0   0   0 136 253 253 253 212 135 132  16   0   0   0   0   0   0\n",
      "    0   0   0   0   0   0   0   0   0   0]\n",
      " [  0   0   0   0   0   0   0   0   0   0   0   0   0   0   0   0   0   0\n",
      "    0   0   0   0   0   0   0   0   0   0]\n",
      " [  0   0   0   0   0   0   0   0   0   0   0   0   0   0   0   0   0   0\n",
      "    0   0   0   0   0   0   0   0   0   0]\n",
      " [  0   0   0   0   0   0   0   0   0   0   0   0   0   0   0   0   0   0\n",
      "    0   0   0   0   0   0   0   0   0   0]]\n"
     ]
    },
    {
     "data": {
      "image/png": "[encoded data removed]",
      "text/plain": [
       "<Figure size 432x288 with 1 Axes>"
      ]
     },
     "metadata": {
      "needs_background": "light"
     },
     "output_type": "display_data"
    },
    {
     "name": "stdout",
     "output_type": "stream",
     "text": [
      "y_train shape:  (60000,)\n",
      "First 10 y_train elements: [5 0 4 1 9 2 1 3 1 4]\n"
     ]
    }
   ],
   "source": [
    "# Inspect x data\n",
    "print('X_train shape: ', x_train.shape)\n",
    "\n",
    "print(x_train.shape[0], ' training samples')\n",
    "\n",
    "print('X_val shape: ',x_val.shape)\n",
    "\n",
    "print(x_val.shape[0], ' validation samples')\n",
    "\n",
    "\n",
    "print('First x sample\\n', x_train[0])\n",
    "\n",
    "# Plot first x sample\n",
    "plt.imshow(x_train[0])\n",
    "plt.show()\n",
    "\n",
    "# Inspect y data\n",
    "print('y_train shape: ', y_train.shape)\n",
    "\n",
    "print('First 10 y_train elements:', y_train[:10])\n",
    "\n",
    "# 60,000 images , each containing an array of 28 arrays ( having 28 elements each )"
   ]
  },
  {
   "cell_type": "code",
   "execution_count": 7,
   "metadata": {},
   "outputs": [
    {
     "name": "stdout",
     "output_type": "stream",
     "text": [
      "28 28\n"
     ]
    }
   ],
   "source": [
    "# setting input output shapes\n",
    "img_rows, img_cols = x_train.shape[1], x_train.shape[2]\n",
    "num_classes = 10 # digits from 0-9\n",
    "print(img_rows,img_cols)"
   ]
  },
  {
   "cell_type": "code",
   "execution_count": 8,
   "metadata": {},
   "outputs": [],
   "source": [
    "'''    *** reshaping ***\n",
    "a full-color image with all 3 RGB channels will have a depth of 3.\n",
    "Our MNIST images only have a depth of 1, but we must explicitly declare that.\n",
    "In other words, we want to transform our dataset from having shape (n, width, height) to (n, width, height, depth)'''\n",
    "\n",
    "# Set input_shape for channels_first or channels_last\n",
    "if K.image_data_format() == 'channels_first':  \n",
    "    x_train = x_train.reshape(x_train.shape[0], 1, img_rows, img_cols)\n",
    "    x_val = x_val.reshape(x_val.shape[0], 1, img_rows, img_cols)\n",
    "    input_shape = (1, img_rows, img_cols)\n",
    "else:  \n",
    "    x_train = x_train.reshape(x_train.shape[0], img_rows, img_cols, 1)\n",
    "    x_val = x_val.reshape(x_val.shape[0], img_rows, img_cols, 1)\n",
    "    input_shape = (img_rows, img_cols, 1)\n"
   ]
  },
  {
   "cell_type": "markdown",
   "metadata": {},
   "source": []
  },
  {
   "cell_type": "code",
   "execution_count": 9,
   "metadata": {},
   "outputs": [
    {
     "name": "stdout",
     "output_type": "stream",
     "text": [
      "x_train shape: (60000, 28, 28, 1)\n",
      "x_val shape: (10000, 28, 28, 1)\n",
      "input_shape: (28, 28, 1)\n"
     ]
    }
   ],
   "source": [
    "print('x_train shape:', x_train.shape)\n",
    "# x_train shape: (60000, 28, 28, 1)\n",
    "print('x_val shape:', x_val.shape)\n",
    "# x_val shape: (10000, 28, 28, 1)\n",
    "print('input_shape:', input_shape)\n",
    "# input_shape: (28, 28, 1)\n"
   ]
  },
  {
   "cell_type": "code",
   "execution_count": 10,
   "metadata": {},
   "outputs": [],
   "source": [
    "# normalize \n",
    "# converting from data type of uint8 to float32\n",
    "x_train = x_train.astype('float32')\n",
    "x_val = x_val.astype('float32')\n",
    "x_train /= 255\n",
    "x_val /= 255\n",
    "\n",
    "# normalizes into 28 arrays , each containing 28 arrays, each with one value between 0 and 1\n"
   ]
  },
  {
   "cell_type": "code",
   "execution_count": 11,
   "metadata": {},
   "outputs": [
    {
     "name": "stdout",
     "output_type": "stream",
     "text": [
      "y_train shape:  (60000,)\n",
      "New y_train shape:  (60000, 10)\n"
     ]
    }
   ],
   "source": [
    "# training data preprocessing \n",
    "print('y_train shape: ', y_train.shape)\n",
    "\n",
    "# Convert 1-dimensional class arrays to 10-dimensional class matrices (one hot encoding)\n",
    "y_train = np_utils.to_categorical(y_train, num_classes)\n",
    "y_val = np_utils.to_categorical(y_val, num_classes)\n",
    "print('New y_train shape: ', y_train.shape)\n",
    "\n"
   ]
  },
  {
   "cell_type": "code",
   "execution_count": 12,
   "metadata": {},
   "outputs": [
    {
     "name": "stdout",
     "output_type": "stream",
     "text": [
      "Model: \"sequential_1\"\n",
      "_________________________________________________________________\n",
      "Layer (type)                 Output Shape              Param #   \n",
      "=================================================================\n",
      "conv2d_1 (Conv2D)            (None, 24, 24, 32)        832       \n",
      "_________________________________________________________________\n",
      "max_pooling2d_1 (MaxPooling2 (None, 12, 12, 32)        0         \n",
      "_________________________________________________________________\n",
      "dropout_1 (Dropout)          (None, 12, 12, 32)        0         \n",
      "_________________________________________________________________\n",
      "conv2d_2 (Conv2D)            (None, 10, 10, 64)        18496     \n",
      "_________________________________________________________________\n",
      "max_pooling2d_2 (MaxPooling2 (None, 5, 5, 64)          0         \n",
      "_________________________________________________________________\n",
      "dropout_2 (Dropout)          (None, 5, 5, 64)          0         \n",
      "_________________________________________________________________\n",
      "conv2d_3 (Conv2D)            (None, 5, 5, 128)         8320      \n",
      "_________________________________________________________________\n",
      "max_pooling2d_3 (MaxPooling2 (None, 2, 2, 128)         0         \n",
      "_________________________________________________________________\n",
      "dropout_3 (Dropout)          (None, 2, 2, 128)         0         \n",
      "_________________________________________________________________\n",
      "flatten_1 (Flatten)          (None, 512)               0         \n",
      "_________________________________________________________________\n",
      "dense_1 (Dense)              (None, 128)               65664     \n",
      "_________________________________________________________________\n",
      "dense_2 (Dense)              (None, 10)                1290      \n",
      "=================================================================\n",
      "Total params: 94,602\n",
      "Trainable params: 94,602\n",
      "Non-trainable params: 0\n",
      "_________________________________________________________________\n",
      "None\n"
     ]
    }
   ],
   "source": [
    "# defining model \n",
    "\n",
    "model_m = Sequential()\n",
    "model_m.add(Conv2D(32, (5, 5), input_shape=input_shape, activation='relu'))\n",
    "model_m.add(MaxPooling2D(pool_size=(2, 2)))\n",
    "model_m.add(Dropout(0.5))\n",
    "model_m.add(Conv2D(64, (3, 3), activation='relu'))\n",
    "model_m.add(MaxPooling2D(pool_size=(2, 2)))\n",
    "model_m.add(Dropout(0.2))\n",
    "model_m.add(Conv2D(128, (1, 1), activation='relu'))\n",
    "model_m.add(MaxPooling2D(pool_size=(2, 2)))\n",
    "model_m.add(Dropout(0.2))\n",
    "model_m.add(Flatten())\n",
    "model_m.add(Dense(128, activation='relu'))\n",
    "model_m.add(Dense(num_classes, activation='softmax'))\n",
    "# Inspect model's layers, output shapes, number of trainable parameters\n",
    "print(model_m.summary())\n"
   ]
  },
  {
   "cell_type": "code",
   "execution_count": 14,
   "metadata": {},
   "outputs": [
    {
     "name": "stdout",
     "output_type": "stream",
     "text": [
      "Train on 60000 samples, validate on 10000 samples\n",
      "Epoch 1/10\n",
      "60000/60000 [==============================] - 67s 1ms/step - loss: 0.0594 - accuracy: 0.9810 - val_loss: 0.0292 - val_accuracy: 0.9906\n",
      "Epoch 2/10\n",
      "60000/60000 [==============================] - 55s 915us/step - loss: 0.0572 - accuracy: 0.9819 - val_loss: 0.0280 - val_accuracy: 0.9913\n",
      "Epoch 3/10\n",
      "60000/60000 [==============================] - 54s 898us/step - loss: 0.0523 - accuracy: 0.9836 - val_loss: 0.0251 - val_accuracy: 0.9925\n",
      "Epoch 4/10\n",
      "60000/60000 [==============================] - 54s 904us/step - loss: 0.0496 - accuracy: 0.9841 - val_loss: 0.0283 - val_accuracy: 0.9915\n",
      "Epoch 5/10\n",
      "60000/60000 [==============================] - 55s 912us/step - loss: 0.0469 - accuracy: 0.9853 - val_loss: 0.0273 - val_accuracy: 0.9913\n",
      "Epoch 6/10\n",
      "60000/60000 [==============================] - 54s 904us/step - loss: 0.0446 - accuracy: 0.9860 - val_loss: 0.0261 - val_accuracy: 0.9923\n",
      "Epoch 7/10\n",
      "60000/60000 [==============================] - 54s 908us/step - loss: 0.0427 - accuracy: 0.9865 - val_loss: 0.0239 - val_accuracy: 0.9929\n",
      "Epoch 8/10\n",
      "60000/60000 [==============================] - 55s 912us/step - loss: 0.0406 - accuracy: 0.9867 - val_loss: 0.0220 - val_accuracy: 0.9936\n",
      "Epoch 9/10\n",
      "60000/60000 [==============================] - 818s 14ms/step - loss: 0.0395 - accuracy: 0.9870 - val_loss: 0.0224 - val_accuracy: 0.9930\n",
      "Epoch 10/10\n",
      "60000/60000 [==============================] - 56s 938us/step - loss: 0.0394 - accuracy: 0.9878 - val_loss: 0.0220 - val_accuracy: 0.9937\n"
     ]
    }
   ],
   "source": [
    "# training model\n",
    "\n",
    "callbacks_list = [\n",
    "    keras.callbacks.ModelCheckpoint(\n",
    "        filepath='best_model.{epoch:02d}-{val_loss:.2f}.h5',\n",
    "        monitor='val_loss', save_best_only=True),\n",
    "    keras.callbacks.EarlyStopping(monitor='acc', patience=1)\n",
    "]\n",
    "\n",
    "model_m.compile(loss='categorical_crossentropy',\n",
    "                optimizer='adam', metrics=['accuracy'])\n",
    "\n",
    "# Hyper-parameters\n",
    "batch_size = 200\n",
    "epochs = 10\n",
    "\n",
    "# Enable validation to use ModelCheckpoint and EarlyStopping callbacks.\n",
    "hist=model_m.fit(\n",
    "    x_train, y_train, batch_size=batch_size, epochs=epochs,\n",
    "    callbacks=callbacks_list, validation_data=(x_val, y_val), verbose=1)\n"
   ]
  },
  {
   "cell_type": "code",
   "execution_count": 21,
   "metadata": {},
   "outputs": [
    {
     "data": {
      "text/plain": [
       "[<matplotlib.lines.Line2D at 0x149c3cc10>]"
      ]
     },
     "execution_count": 21,
     "metadata": {},
     "output_type": "execute_result"
    },
    {
     "data": {
      "image/png": "[encoded data removed]",
      "text/plain": [
       "<Figure size 432x288 with 1 Axes>"
      ]
     },
     "metadata": {
      "needs_background": "light"
     },
     "output_type": "display_data"
    },
    {
     "data": {
      "image/png": "[encoded data removed]",
      "text/plain": [
       "<Figure size 432x288 with 1 Axes>"
      ]
     },
     "metadata": {
      "needs_background": "light"
     },
     "output_type": "display_data"
    }
   ],
   "source": [
    "# plotting our loss and val loss\n",
    "plt.figure()\n",
    "plt.ylabel(\"Loss (training and validation)\")\n",
    "plt.xlabel(\"Training Steps\")\n",
    "plt.ylim([0,0.2])\n",
    "plt.plot(hist.history[\"loss\"])\n",
    "plt.plot(hist.history[\"val_loss\"])\n",
    "\n",
    "plt.figure()\n",
    "plt.ylabel(\"Accuracy (training and validation)\")\n",
    "plt.xlabel(\"Training Steps\")\n",
    "plt.ylim([0.8,1.2])\n",
    "plt.plot(hist.history[\"accuracy\"])\n",
    "plt.plot(hist.history[\"val_accuracy\"])"
   ]
  },
  {
   "cell_type": "code",
   "execution_count": 26,
   "metadata": {},
   "outputs": [
    {
     "name": "stdout",
     "output_type": "stream",
     "text": [
      "0 : conv2d_1_input, <keras.engine.input_layer.InputLayer object at 0x13b1932d0>\n",
      "1 : conv2d_1, <keras.layers.convolutional.Conv2D object at 0x1498b1890>\n",
      "2 : conv2d_1__activation__, <keras.layers.core.Activation object at 0x149c17450>\n",
      "3 : max_pooling2d_1, <keras.layers.pooling.MaxPooling2D object at 0x13b1937d0>\n",
      "4 : conv2d_2, <keras.layers.convolutional.Conv2D object at 0x1498646d0>\n",
      "5 : conv2d_2__activation__, <keras.layers.core.Activation object at 0x149b0e6d0>\n",
      "6 : max_pooling2d_2, <keras.layers.pooling.MaxPooling2D object at 0x13d2a07d0>\n",
      "7 : conv2d_3, <keras.layers.convolutional.Conv2D object at 0x14984b290>\n",
      "8 : conv2d_3__activation__, <keras.layers.core.Activation object at 0x149b0e9d0>\n",
      "9 : max_pooling2d_3, <keras.layers.pooling.MaxPooling2D object at 0x14984ba10>\n",
      "10 : flatten_1, <keras.layers.core.Flatten object at 0x1498aa450>\n",
      "11 : dense_1, <keras.layers.core.Dense object at 0x149977690>\n",
      "12 : dense_1__activation__, <keras.layers.core.Activation object at 0x149b6d6d0>\n",
      "13 : dense_2, <keras.layers.core.Dense object at 0x1498fd790>\n",
      "14 : dense_2__activation__, <keras.layers.core.Activation object at 0x149beabd0>\n",
      "input {\n",
      "  name: \"image\"\n",
      "  type {\n",
      "    imageType {\n",
      "      width: 28\n",
      "      height: 28\n",
      "      colorSpace: GRAYSCALE\n",
      "    }\n",
      "  }\n",
      "}\n",
      "output {\n",
      "  name: \"output\"\n",
      "  type {\n",
      "    dictionaryType {\n",
      "      stringKeyType {\n",
      "      }\n",
      "    }\n",
      "  }\n",
      "}\n",
      "output {\n",
      "  name: \"classLabel\"\n",
      "  type {\n",
      "    stringType {\n",
      "    }\n",
      "  }\n",
      "}\n",
      "predictedFeatureName: \"classLabel\"\n",
      "predictedProbabilitiesName: \"output\"\n",
      "metadata {\n",
      "  userDefined {\n",
      "    key: \"com.github.apple.coremltools.source\"\n",
      "    value: \"keras==2.3.1\"\n",
      "  }\n",
      "  userDefined {\n",
      "    key: \"com.github.apple.coremltools.version\"\n",
      "    value: \"4.0\"\n",
      "  }\n",
      "}\n",
      "\n"
     ]
    }
   ],
   "source": [
    "# converting our keras model into coreml model\n",
    "\n",
    "output_labels = ['0', '1', '2', '3', '4', '5', '6', '7', '8', '9']\n",
    "\n",
    "# converting our best model to coreml model\n",
    "coreml_mnist = coremltools.converters.keras.convert(\n",
    "    'best_model.09-0.03.h5', input_names=['image'], output_names=['output'], \n",
    "    class_labels=output_labels, image_input_names='image')\n",
    "print(coreml_mnist)\n"
   ]
  },
  {
   "cell_type": "code",
   "execution_count": 29,
   "metadata": {},
   "outputs": [],
   "source": [
    "# Metadata for Xcode\n",
    "\n",
    "coreml_mnist.author = 'umerzia.com'\n",
    "coreml_mnist.license = 'umer_mnist'\n",
    "coreml_mnist.short_description = 'Image based digit recognition (MNIST)'\n",
    "coreml_mnist.input_description['image'] = 'Digit image'\n",
    "coreml_mnist.output_description['output'] = 'Probability of each digit'\n",
    "coreml_mnist.output_description['classLabel'] = 'Labels of digits'\n",
    "\n",
    "# saving the model\n",
    "coreml_mnist.save('MNISTClassifier.mlmodel')\n"
   ]
  },
  {
   "cell_type": "code",
   "execution_count": null,
   "metadata": {},
   "outputs": [],
   "source": []
  }
 ],
 "metadata": {
  "kernelspec": {
   "display_name": "Python 3",
   "language": "python",
   "name": "python3"
  },
  "language_info": {
   "codemirror_mode": {
    "name": "ipython",
    "version": 3
   },
   "file_extension": ".py",
   "mimetype": "text/x-python",
   "name": "python",
   "nbconvert_exporter": "python",
   "pygments_lexer": "ipython3",
   "version": "3.7.7"
  }
 },
 "nbformat": 4,
 "nbformat_minor": 4
}
